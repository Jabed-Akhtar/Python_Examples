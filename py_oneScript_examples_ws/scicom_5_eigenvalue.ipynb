{
 "cells": [
  {
   "cell_type": "markdown",
   "id": "b4037412-0e59-4f86-955a-6027ff58cdcb",
   "metadata": {},
   "source": [
    "# Eigenvalue\n",
    "### Explained with an Example - Vehicle's Longitudinal Speed Control\n",
    "Let's consider a more realistic example of a control system with a state-space representation. We'll use a simple second-order system with the following state-space equations:  \n",
    "<img src=\"notebook_imgs/state_space_formulae.png\" alt=\"Example Image\" width=\"250\"/>  \n",
    "In this example, let's consider a discrete-time system for simplicity. We'll use the following matrices:  \n",
    "<img src=\"notebook_imgs/eigenvalue_example_matrices.png\" alt=\"Example Image\" width=\"100\"/>  \n",
    "**Interpretation:**\n",
    "\n",
    "- If all eigenvalues have a magnitude less than 1, it implies that the system will converge to a stable state over time.\n",
    "- If any eigenvalue has a magnitude greater than or equal to 1, it suggests potential instability in the system.  \n",
    "\n",
    "Now, let's compute the eigenvalues of matrix A using Python and NumPy:"
   ]
  },
  {
   "cell_type": "code",
   "execution_count": 1,
   "id": "32bf8b26-bd89-4277-8694-047d5c77f8b6",
   "metadata": {},
   "outputs": [
    {
     "name": "stdout",
     "output_type": "stream",
     "text": [
      "System Matrix A:\n",
      "[[0.8 0.2]\n",
      " [0.4 0.9]]\n",
      "\n",
      "Eigenvalues:\n",
      "[0.56277187 1.13722813]\n"
     ]
    }
   ],
   "source": [
    "import numpy as np\n",
    "\n",
    "# Define the system matrices\n",
    "A = np.array([[0.8, 0.2],\n",
    "              [0.4, 0.9]])\n",
    "\n",
    "B = np.array([[0.2],\n",
    "              [0.1]])\n",
    "\n",
    "C = np.array([[1, 0]])\n",
    "\n",
    "# Compute the eigenvalues\n",
    "eigenvalues = np.linalg.eigvals(A)\n",
    "\n",
    "print(\"System Matrix A:\")\n",
    "print(A)\n",
    "print(\"\\nEigenvalues:\")\n",
    "print(eigenvalues)"
   ]
  },
  {
   "cell_type": "markdown",
   "id": "62d7a4f8-2167-4e7b-908b-9d3ba6318dea",
   "metadata": {},
   "source": [
    "The eigenvalues of matrix **A** give us insights into the stability of the system. If all eigenvalues have a magnitude less than 1 (in the case of a discrete-time system), the system is stable. If any eigenvalue has a magnitude greater than or equal to 1, the system may be unstable."
   ]
  },
  {
   "cell_type": "raw",
   "id": "60548c54-f437-4b5a-a0b8-ecf8a2e2b04e",
   "metadata": {},
   "source": [
    "###### END OF FILE ########################"
   ]
  }
 ],
 "metadata": {
  "kernelspec": {
   "display_name": "Python 3 (ipykernel)",
   "language": "python",
   "name": "python3"
  },
  "language_info": {
   "codemirror_mode": {
    "name": "ipython",
    "version": 3
   },
   "file_extension": ".py",
   "mimetype": "text/x-python",
   "name": "python",
   "nbconvert_exporter": "python",
   "pygments_lexer": "ipython3",
   "version": "3.7.12"
  }
 },
 "nbformat": 4,
 "nbformat_minor": 5
}
